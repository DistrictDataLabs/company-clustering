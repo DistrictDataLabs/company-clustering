{
 "cells": [
  {
   "cell_type": "code",
   "execution_count": 144,
   "metadata": {},
   "outputs": [
    {
     "name": "stdout",
     "output_type": "stream",
     "text": [
      "[nltk_data] Downloading package stopwords to C:\\Users\\Mr.\n",
      "[nltk_data]     Priyan\\AppData\\Roaming\\nltk_data...\n",
      "[nltk_data]   Package stopwords is already up-to-date!\n"
     ]
    }
   ],
   "source": [
    "# load required packages\n",
    "import nltk\n",
    "from nltk.corpus import PlaintextCorpusReader\n",
    "import pandas as pd\n",
    "import re\n",
    "import matplotlib.pyplot as plt\n",
    "nltk.download('stopwords')\n",
    "from nltk.corpus import stopwords\n",
    "from nltk.stem.porter import PorterStemmer"
   ]
  },
  {
   "cell_type": "code",
   "execution_count": 3,
   "metadata": {
    "collapsed": true
   },
   "outputs": [],
   "source": [
    "#change path below to folder where you place the files\n",
    "corpus_path = \"C:\\\\Users\\\\Mr. Priyan\\\\Dropbox\\\\Data Science\\\\DDL\\\\company_profiles\" "
   ]
  },
  {
   "cell_type": "code",
   "execution_count": 4,
   "metadata": {
    "collapsed": true
   },
   "outputs": [],
   "source": [
    "corpus = PlaintextCorpusReader(corpus_path, \".*\\.txt\")"
   ]
  },
  {
   "cell_type": "code",
   "execution_count": 5,
   "metadata": {},
   "outputs": [
    {
     "name": "stdout",
     "output_type": "stream",
     "text": [
      "Company Profile Corpus Statistics\n",
      "Number of profiles: 3558\n",
      "Number of paragraphs: 3558\n",
      "Number of sentences: 23988\n",
      "Number of words: 790836\n"
     ]
    }
   ],
   "source": [
    "print(\"Company Profile Corpus Statistics\")\n",
    "print(\"Number of profiles: \" + str(len(corpus.fileids())))\n",
    "print(\"Number of paragraphs: \" + str(len(corpus.paras())))\n",
    "print(\"Number of sentences: \" + str(len(corpus.sents())))\n",
    "print(\"Number of words: \" + str(len(corpus.words())))"
   ]
  },
  {
   "cell_type": "code",
   "execution_count": 6,
   "metadata": {
    "collapsed": true
   },
   "outputs": [],
   "source": [
    "list_corpus = []\n",
    "#Converting corpus to list of lists\n",
    "for i in range(0,len(corpus.fileids())):\n",
    "    list_corpus.append(list(corpus.words(corpus.fileids()[i])))"
   ]
  },
  {
   "cell_type": "code",
   "execution_count": 242,
   "metadata": {},
   "outputs": [],
   "source": [
    "# Preprocessing\n",
    "#commenting everything as I had already saved new_corpus after the first time. \n",
    "# creating a list called common_words to remove from corpus\n",
    "common_words = ['product','products','service','services','solution','solutions','segment','segments','offering','offerings',\\\n",
    "                'market','markets','provide','provides','provided','industry','industries','sells','sell','sold','state',\\\n",
    "                'states','headquarter','headquarters','headquartered']\n",
    "#import time\n",
    "#start = time.time()\n",
    "\n",
    "new_corpus = []    \n",
    "for i in range(0,len(list_corpus)):\n",
    "    #remove punctuation\n",
    "    review = re.sub('[^a-zA-Z]', ' ', str(list_corpus[i]))\n",
    "    #convert all to lowercase\n",
    "    review = review.lower()\n",
    "    review = review.split()\n",
    "    #stemming\n",
    "    ps = PorterStemmer()\n",
    "    review = [ps.stem(word) for word in review if not word in set(stopwords.words('english')) if not word in set(common_words)]\n",
    "    review = ' '.join(review)\n",
    "    new_corpus.append(review)\n",
    "\n",
    "#end = time.time()\n",
    "#print(end - start)\n"
   ]
  },
  {
   "cell_type": "code",
   "execution_count": 42,
   "metadata": {
    "collapsed": true
   },
   "outputs": [],
   "source": [
    "# to store the new_corpus list instead of having to run it each time \n",
    "#%store new_corpus (without common words being filtered out)\n"
   ]
  },
  {
   "cell_type": "code",
   "execution_count": 244,
   "metadata": {},
   "outputs": [],
   "source": [
    "#restoring new_corpus which was stored already\n",
    "#%store -r "
   ]
  },
  {
   "cell_type": "code",
   "execution_count": 245,
   "metadata": {},
   "outputs": [
    {
     "name": "stdout",
     "output_type": "stream",
     "text": [
      "Original description:\n",
      "Cboe Global Markets , Inc ., through its subsidiaries , operates as an options exchange in the United States . The company operates in five segments : Options , U . S . Equities , Futures , European Equities , and Global FX . The Options segment trades in listed market indexes . The U . S . Equities segment trades in listed cash equities ; and provides exchange - traded products ( ETP ) transaction and ETP listing services . The Futures segment trades in futures , bitcoins , and other products . The European Equities segment trades in pan - European listed equities transaction services , ETPs , exchange - traded commodities , and international depository receipts . The Global FX segment provides institutional foreign exchange ( FX ) and non - deliverable forward FX transactions services . It has strategic relationships with S & P Dow Jones Indices , LLC ; Frank Russell Company ; FTSE International Limited ; MSCI Inc .; DJI Opco , LLC ; Cboe Vest Financial Group , Inc .; and Gemini Trust Company , LLC . The company was formerly known as CBOE Holdings , Inc . and changed its name to Cboe Global Markets , Inc . in October 2017 . Cboe Global Markets , Inc . was founded in 1973 and is headquartered in Chicago , Illinois .\n",
      "\n",
      "After pre-processing:\n",
      "cboe global inc subsidiari oper option exchang unit compani oper five option u equiti futur european equiti global fx option trade list index u equiti trade list cash equiti exchang trade etp transact etp list futur trade futur bitcoin european equiti trade pan european list equiti transact etp exchang trade commod intern depositori receipt global fx institut foreign exchang fx non deliver forward fx transact strateg relationship p dow jone indic llc frank russel compani ftse intern limit msci inc dji opco llc cboe vest financi group inc gemini trust compani llc compani formerli known cboe hold inc chang name cboe global inc octob cboe global inc found chicago illinoi\n",
      "\n"
     ]
    }
   ],
   "source": [
    "#checking the content of a random document from new_corpus and comparing it to original description\n",
    "import random\n",
    "rand_num = random.randrange(1,3559,1)\n",
    "print(\"Original description:\")\n",
    "print(' '.join(corpus.words(corpus.fileids()[rand_num])))\n",
    "print()\n",
    "print(\"After pre-processing:\")\n",
    "print(new_corpus[rand_num])\n",
    "print()"
   ]
  },
  {
   "cell_type": "code",
   "execution_count": 246,
   "metadata": {
    "collapsed": true
   },
   "outputs": [],
   "source": [
    "import pandas as pd\n",
    "df = pd.read_csv('company_info.csv')"
   ]
  },
  {
   "cell_type": "markdown",
   "metadata": {},
   "source": [
    "TD-IDF "
   ]
  },
  {
   "cell_type": "code",
   "execution_count": 247,
   "metadata": {},
   "outputs": [],
   "source": [
    "from sklearn.feature_extraction.text import TfidfVectorizer\n",
    "\n",
    "#define vectorizer parameters\n",
    "#original: max_df=0.8, min_df=0.05, max_features=200000\n",
    "tfidf_vectorizer = TfidfVectorizer(max_df=0.8, min_df=0.05, max_features=200000,\n",
    "                                 stop_words='english',\n",
    "                                 use_idf=True, tokenizer=None, ngram_range=(1,3))\n",
    "#fit the vectorizer to corpus\n",
    "tfidf_matrix = tfidf_vectorizer.fit_transform(new_corpus) "
   ]
  },
  {
   "cell_type": "code",
   "execution_count": 248,
   "metadata": {},
   "outputs": [
    {
     "data": {
      "text/plain": [
       "(3558, 319)"
      ]
     },
     "execution_count": 248,
     "metadata": {},
     "output_type": "execute_result"
    }
   ],
   "source": [
    "# to see shape of tfidf matrix\n",
    "tfidf_matrix.shape"
   ]
  },
  {
   "cell_type": "code",
   "execution_count": 249,
   "metadata": {
    "collapsed": true
   },
   "outputs": [],
   "source": [
    "#tdidf feature names\n",
    "terms = tfidf_vectorizer.get_feature_names()"
   ]
  },
  {
   "cell_type": "code",
   "execution_count": 250,
   "metadata": {},
   "outputs": [
    {
     "data": {
      "text/plain": [
       "['access',\n",
       " 'accessori',\n",
       " 'account',\n",
       " 'acquir',\n",
       " 'acquisit',\n",
       " 'activ',\n",
       " 'addit',\n",
       " 'addit compani',\n",
       " 'addit compani offer',\n",
       " 'addit offer',\n",
       " 'administr',\n",
       " 'agenc',\n",
       " 'agent',\n",
       " 'agreement',\n",
       " 'agricultur',\n",
       " 'air',\n",
       " 'america',\n",
       " 'analyt',\n",
       " 'applic',\n",
       " 'approxim',\n",
       " 'area',\n",
       " 'asia',\n",
       " 'asset',\n",
       " 'associ',\n",
       " 'autom',\n",
       " 'automobil',\n",
       " 'automot',\n",
       " 'bank',\n",
       " 'bank hold',\n",
       " 'bank hold compani',\n",
       " 'base',\n",
       " 'biopharmaceut',\n",
       " 'branch',\n",
       " 'brand',\n",
       " 'brokerag',\n",
       " 'build',\n",
       " 'busi',\n",
       " 'california',\n",
       " 'canada',\n",
       " 'cancer',\n",
       " 'candid',\n",
       " 'capit',\n",
       " 'card',\n",
       " 'care',\n",
       " 'cash',\n",
       " 'center',\n",
       " 'central',\n",
       " 'certif',\n",
       " 'certif deposit',\n",
       " 'chain',\n",
       " 'chang',\n",
       " 'channel',\n",
       " 'check',\n",
       " 'chemic',\n",
       " 'citi',\n",
       " 'client',\n",
       " 'clinic',\n",
       " 'cloud',\n",
       " 'collabor',\n",
       " 'collect',\n",
       " 'com',\n",
       " 'commerci',\n",
       " 'commerci industri',\n",
       " 'commerci real',\n",
       " 'commerci real estat',\n",
       " 'commun',\n",
       " 'compani base',\n",
       " 'compani develop',\n",
       " 'compani focus',\n",
       " 'compani formerli',\n",
       " 'compani formerli known',\n",
       " 'compani offer',\n",
       " 'compani oper',\n",
       " 'compani serv',\n",
       " 'compon',\n",
       " 'compris',\n",
       " 'comput',\n",
       " 'connect',\n",
       " 'consist',\n",
       " 'construct',\n",
       " 'consult',\n",
       " 'consum',\n",
       " 'consum loan',\n",
       " 'contract',\n",
       " 'control',\n",
       " 'corpor',\n",
       " 'credit',\n",
       " 'custom',\n",
       " 'data',\n",
       " 'decemb',\n",
       " 'decemb compani',\n",
       " 'deliv',\n",
       " 'deliveri',\n",
       " 'demand',\n",
       " 'deposit',\n",
       " 'design',\n",
       " 'design manufactur',\n",
       " 'develop',\n",
       " 'develop commerci',\n",
       " 'develop manufactur',\n",
       " 'devic',\n",
       " 'digit',\n",
       " 'direct',\n",
       " 'direct sale',\n",
       " 'directli',\n",
       " 'diseas',\n",
       " 'distribut',\n",
       " 'distributor',\n",
       " 'drug',\n",
       " 'educ',\n",
       " 'electr',\n",
       " 'electron',\n",
       " 'enabl',\n",
       " 'end',\n",
       " 'energi',\n",
       " 'engag',\n",
       " 'engin',\n",
       " 'enhanc',\n",
       " 'enterpris',\n",
       " 'equip',\n",
       " 'equip manufactur',\n",
       " 'equiti',\n",
       " 'estat',\n",
       " 'estat loan',\n",
       " 'europ',\n",
       " 'facil',\n",
       " 'famili',\n",
       " 'financ',\n",
       " 'financi',\n",
       " 'fix',\n",
       " 'florida',\n",
       " 'focus',\n",
       " 'food',\n",
       " 'forc',\n",
       " 'form',\n",
       " 'formerli',\n",
       " 'formerli known',\n",
       " 'fund',\n",
       " 'ga',\n",
       " 'gener',\n",
       " 'govern',\n",
       " 'group',\n",
       " 'health',\n",
       " 'healthcar',\n",
       " 'high',\n",
       " 'hold',\n",
       " 'hold compani',\n",
       " 'home',\n",
       " 'home equiti',\n",
       " 'hospit',\n",
       " 'illinoi',\n",
       " 'includ',\n",
       " 'incom',\n",
       " 'incorpor',\n",
       " 'independ',\n",
       " 'individu',\n",
       " 'industri',\n",
       " 'inform',\n",
       " 'infrastructur',\n",
       " 'instal',\n",
       " 'institut',\n",
       " 'instrument',\n",
       " 'insur',\n",
       " 'integr',\n",
       " 'intern',\n",
       " 'intern compani',\n",
       " 'internet',\n",
       " 'invest',\n",
       " 'involv',\n",
       " 'jersey',\n",
       " 'known',\n",
       " 'land',\n",
       " 'leas',\n",
       " 'licens',\n",
       " 'life',\n",
       " 'light',\n",
       " 'line',\n",
       " 'line credit',\n",
       " 'liquid',\n",
       " 'llc',\n",
       " 'loan',\n",
       " 'local',\n",
       " 'locat',\n",
       " 'long',\n",
       " 'machin',\n",
       " 'mainten',\n",
       " 'manag',\n",
       " 'manufactur',\n",
       " 'market',\n",
       " 'massachusett',\n",
       " 'materi',\n",
       " 'media',\n",
       " 'medic',\n",
       " 'medium',\n",
       " 'metal',\n",
       " 'mexico',\n",
       " 'middl',\n",
       " 'million',\n",
       " 'mobil',\n",
       " 'money',\n",
       " 'monitor',\n",
       " 'mortgag',\n",
       " 'mortgag loan',\n",
       " 'multi',\n",
       " 'nation',\n",
       " 'natur',\n",
       " 'natur ga',\n",
       " 'network',\n",
       " 'new',\n",
       " 'new jersey',\n",
       " 'new york',\n",
       " 'non',\n",
       " 'north',\n",
       " 'north america',\n",
       " 'offer',\n",
       " 'offic',\n",
       " 'oil',\n",
       " 'oil ga',\n",
       " 'onlin',\n",
       " 'oper',\n",
       " 'oper bank',\n",
       " 'organ',\n",
       " 'origin',\n",
       " 'origin equip',\n",
       " 'origin equip manufactur',\n",
       " 'pacif',\n",
       " 'packag',\n",
       " 'parti',\n",
       " 'partner',\n",
       " 'patient',\n",
       " 'pennsylvania',\n",
       " 'perform',\n",
       " 'person',\n",
       " 'pharmaceut',\n",
       " 'phase',\n",
       " 'pipelin',\n",
       " 'plan',\n",
       " 'platform',\n",
       " 'portfolio',\n",
       " 'power',\n",
       " 'primarili',\n",
       " 'privat',\n",
       " 'process',\n",
       " 'produc',\n",
       " 'product',\n",
       " 'profession',\n",
       " 'program',\n",
       " 'project',\n",
       " 'properti',\n",
       " 'protect',\n",
       " 'provid',\n",
       " 'public',\n",
       " 'purchas',\n",
       " 'rang',\n",
       " 'real',\n",
       " 'real estat',\n",
       " 'real estat loan',\n",
       " 'region',\n",
       " 'relat',\n",
       " 'repair',\n",
       " 'repres',\n",
       " 'research',\n",
       " 'residenti',\n",
       " 'retail',\n",
       " 'retir',\n",
       " 'sale',\n",
       " 'sale forc',\n",
       " 'san',\n",
       " 'save',\n",
       " 'secur',\n",
       " 'serv',\n",
       " 'singl',\n",
       " 'size',\n",
       " 'small',\n",
       " 'softwar',\n",
       " 'south',\n",
       " 'special',\n",
       " 'specialti',\n",
       " 'stage',\n",
       " 'storag',\n",
       " 'store',\n",
       " 'subsidiari',\n",
       " 'suppli',\n",
       " 'support',\n",
       " 'technolog',\n",
       " 'term',\n",
       " 'test',\n",
       " 'texa',\n",
       " 'therapeut',\n",
       " 'therapi',\n",
       " 'time',\n",
       " 'togeth',\n",
       " 'togeth subsidiari',\n",
       " 'tool',\n",
       " 'trade',\n",
       " 'train',\n",
       " 'transfer',\n",
       " 'transport',\n",
       " 'treat',\n",
       " 'treatment',\n",
       " 'trial',\n",
       " 'trust',\n",
       " 'unit',\n",
       " 'unit canada',\n",
       " 'unit compani',\n",
       " 'unit intern',\n",
       " 'use',\n",
       " 'user',\n",
       " 'util',\n",
       " 'valu',\n",
       " 'variou',\n",
       " 'vehicl',\n",
       " 'water',\n",
       " 'websit',\n",
       " 'wholesal',\n",
       " 'work',\n",
       " 'worldwid',\n",
       " 'worldwid compani',\n",
       " 'york']"
      ]
     },
     "execution_count": 250,
     "metadata": {},
     "output_type": "execute_result"
    }
   ],
   "source": [
    "terms"
   ]
  },
  {
   "cell_type": "code",
   "execution_count": 263,
   "metadata": {
    "scrolled": true
   },
   "outputs": [
    {
     "data": {
      "image/png": "[encoded data removed]",
      "text/plain": [
       "<matplotlib.figure.Figure at 0x1f22e5cfef0>"
      ]
     },
     "metadata": {},
     "output_type": "display_data"
    }
   ],
   "source": [
    "# Using the elbow method to find the optimal number of clusters\n",
    "from sklearn.cluster import KMeans\n",
    "wcss = []\n",
    "for i in range(1, 15):\n",
    "    kmeans = KMeans(n_clusters = i, init = 'k-means++', random_state = 42)\n",
    "    kmeans.fit(tfidf_matrix)\n",
    "    wcss.append(kmeans.inertia_)\n",
    "plt.plot(range(1, 15), wcss)\n",
    "plt.title('The Elbow Method')\n",
    "plt.xlabel('Number of clusters')\n",
    "plt.ylabel('WCSS')\n",
    "plt.show()"
   ]
  },
  {
   "cell_type": "code",
   "execution_count": 251,
   "metadata": {
    "collapsed": true
   },
   "outputs": [],
   "source": [
    "# Kmeans Clustering\n",
    "from sklearn.cluster import KMeans\n",
    "num_clusters = 5\n",
    "km = KMeans(n_clusters=num_clusters)\n",
    "km.fit(tfidf_matrix)\n",
    "clusters = km.labels_.tolist()"
   ]
  },
  {
   "cell_type": "code",
   "execution_count": 252,
   "metadata": {},
   "outputs": [],
   "source": [
    "# saving the clustering model\n",
    "from sklearn.externals import joblib\n",
    "\n",
    "#uncomment the below to save your model \n",
    "#joblib.dump(km,  'doc_5clusters.pkl')\n",
    "#since I've already run my model I am loading from the pickle\n",
    "#Uncomment to load the model with 4 clusters without common words filtered out\n",
    "#km = joblib.load('doc_cluster.pkl')\n",
    "#Uncomment to load the model with 5 clusters - without common words filtered out\n",
    "#km = joblib.load('doc_5clusters.pkl')\n",
    "#clusters = km.labels_.tolist()"
   ]
  },
  {
   "cell_type": "code",
   "execution_count": 253,
   "metadata": {
    "scrolled": true
   },
   "outputs": [
    {
     "data": {
      "text/html": [
       "<div>\n",
       "<style>\n",
       "    .dataframe thead tr:only-child th {\n",
       "        text-align: right;\n",
       "    }\n",
       "\n",
       "    .dataframe thead th {\n",
       "        text-align: left;\n",
       "    }\n",
       "\n",
       "    .dataframe tbody tr th {\n",
       "        vertical-align: top;\n",
       "    }\n",
       "</style>\n",
       "<table border=\"1\" class=\"dataframe\">\n",
       "  <thead>\n",
       "    <tr style=\"text-align: right;\">\n",
       "      <th></th>\n",
       "      <th>Ticker</th>\n",
       "      <th>Company</th>\n",
       "      <th>Sector</th>\n",
       "      <th>Industry</th>\n",
       "      <th>Country</th>\n",
       "    </tr>\n",
       "  </thead>\n",
       "  <tbody>\n",
       "    <tr>\n",
       "      <th>1396</th>\n",
       "      <td>CSM</td>\n",
       "      <td>ProShares Large Cap Core Plus</td>\n",
       "      <td>Financial</td>\n",
       "      <td>Exchange Traded Fund</td>\n",
       "      <td>USA</td>\n",
       "    </tr>\n",
       "    <tr>\n",
       "      <th>4461</th>\n",
       "      <td>NECB</td>\n",
       "      <td>Northeast Community Bancorp, Inc.</td>\n",
       "      <td>Financial</td>\n",
       "      <td>Savings &amp; Loans</td>\n",
       "      <td>USA</td>\n",
       "    </tr>\n",
       "    <tr>\n",
       "      <th>2479</th>\n",
       "      <td>FOF</td>\n",
       "      <td>Cohen &amp; Steers Closed-End Opportunity Fund, Inc.</td>\n",
       "      <td>Financial</td>\n",
       "      <td>Closed-End Fund - Equity</td>\n",
       "      <td>USA</td>\n",
       "    </tr>\n",
       "    <tr>\n",
       "      <th>462</th>\n",
       "      <td>ATVI</td>\n",
       "      <td>Activision Blizzard, Inc.</td>\n",
       "      <td>Technology</td>\n",
       "      <td>Multimedia &amp; Graphics Software</td>\n",
       "      <td>USA</td>\n",
       "    </tr>\n",
       "    <tr>\n",
       "      <th>5643</th>\n",
       "      <td>SBR</td>\n",
       "      <td>Sabine Royalty Trust</td>\n",
       "      <td>Financial</td>\n",
       "      <td>Diversified Investments</td>\n",
       "      <td>USA</td>\n",
       "    </tr>\n",
       "  </tbody>\n",
       "</table>\n",
       "</div>"
      ],
      "text/plain": [
       "     Ticker                                           Company      Sector  \\\n",
       "1396    CSM                     ProShares Large Cap Core Plus   Financial   \n",
       "4461   NECB                 Northeast Community Bancorp, Inc.   Financial   \n",
       "2479    FOF  Cohen & Steers Closed-End Opportunity Fund, Inc.   Financial   \n",
       "462    ATVI                         Activision Blizzard, Inc.  Technology   \n",
       "5643    SBR                              Sabine Royalty Trust   Financial   \n",
       "\n",
       "                            Industry Country  \n",
       "1396            Exchange Traded Fund     USA  \n",
       "4461                 Savings & Loans     USA  \n",
       "2479        Closed-End Fund - Equity     USA  \n",
       "462   Multimedia & Graphics Software     USA  \n",
       "5643         Diversified Investments     USA  "
      ]
     },
     "execution_count": 253,
     "metadata": {},
     "output_type": "execute_result"
    }
   ],
   "source": [
    "# creating a dataframe which contains additional information about each company\n",
    "df = pd.read_csv(\"C:\\\\Users\\\\Mr. Priyan\\\\Dropbox\\\\Data Science\\\\DDL\\\\company_info.csv\")\n",
    "df.sample(5)"
   ]
  },
  {
   "cell_type": "code",
   "execution_count": 254,
   "metadata": {},
   "outputs": [
    {
     "data": {
      "text/html": [
       "<div>\n",
       "<style>\n",
       "    .dataframe thead tr:only-child th {\n",
       "        text-align: right;\n",
       "    }\n",
       "\n",
       "    .dataframe thead th {\n",
       "        text-align: left;\n",
       "    }\n",
       "\n",
       "    .dataframe tbody tr th {\n",
       "        vertical-align: top;\n",
       "    }\n",
       "</style>\n",
       "<table border=\"1\" class=\"dataframe\">\n",
       "  <thead>\n",
       "    <tr style=\"text-align: right;\">\n",
       "      <th></th>\n",
       "      <th>Clusters</th>\n",
       "      <th>Ticker</th>\n",
       "    </tr>\n",
       "  </thead>\n",
       "  <tbody>\n",
       "    <tr>\n",
       "      <th>0</th>\n",
       "      <td>2</td>\n",
       "      <td>A-profile.txt</td>\n",
       "    </tr>\n",
       "    <tr>\n",
       "      <th>1</th>\n",
       "      <td>2</td>\n",
       "      <td>AA-profile.txt</td>\n",
       "    </tr>\n",
       "    <tr>\n",
       "      <th>2</th>\n",
       "      <td>1</td>\n",
       "      <td>AAC-profile.txt</td>\n",
       "    </tr>\n",
       "    <tr>\n",
       "      <th>3</th>\n",
       "      <td>2</td>\n",
       "      <td>AAL-profile.txt</td>\n",
       "    </tr>\n",
       "    <tr>\n",
       "      <th>4</th>\n",
       "      <td>4</td>\n",
       "      <td>AAMC-profile.txt</td>\n",
       "    </tr>\n",
       "  </tbody>\n",
       "</table>\n",
       "</div>"
      ],
      "text/plain": [
       "   Clusters            Ticker\n",
       "0         2     A-profile.txt\n",
       "1         2    AA-profile.txt\n",
       "2         1   AAC-profile.txt\n",
       "3         2   AAL-profile.txt\n",
       "4         4  AAMC-profile.txt"
      ]
     },
     "execution_count": 254,
     "metadata": {},
     "output_type": "execute_result"
    }
   ],
   "source": [
    "# Creating a dataframe that contains the company ticker along with the cluster number\n",
    "df_corpus = pd.DataFrame({'Ticker':corpus.fileids(), 'Clusters':clusters})\n",
    "df_corpus.head(5)"
   ]
  },
  {
   "cell_type": "code",
   "execution_count": 255,
   "metadata": {},
   "outputs": [
    {
     "data": {
      "text/html": [
       "<div>\n",
       "<style>\n",
       "    .dataframe thead tr:only-child th {\n",
       "        text-align: right;\n",
       "    }\n",
       "\n",
       "    .dataframe thead th {\n",
       "        text-align: left;\n",
       "    }\n",
       "\n",
       "    .dataframe tbody tr th {\n",
       "        vertical-align: top;\n",
       "    }\n",
       "</style>\n",
       "<table border=\"1\" class=\"dataframe\">\n",
       "  <thead>\n",
       "    <tr style=\"text-align: right;\">\n",
       "      <th></th>\n",
       "      <th>Clusters</th>\n",
       "      <th>Ticker</th>\n",
       "    </tr>\n",
       "  </thead>\n",
       "  <tbody>\n",
       "    <tr>\n",
       "      <th>0</th>\n",
       "      <td>2</td>\n",
       "      <td>A</td>\n",
       "    </tr>\n",
       "    <tr>\n",
       "      <th>1</th>\n",
       "      <td>2</td>\n",
       "      <td>AA</td>\n",
       "    </tr>\n",
       "    <tr>\n",
       "      <th>2</th>\n",
       "      <td>1</td>\n",
       "      <td>AAC</td>\n",
       "    </tr>\n",
       "    <tr>\n",
       "      <th>3</th>\n",
       "      <td>2</td>\n",
       "      <td>AAL</td>\n",
       "    </tr>\n",
       "    <tr>\n",
       "      <th>4</th>\n",
       "      <td>4</td>\n",
       "      <td>AAMC</td>\n",
       "    </tr>\n",
       "  </tbody>\n",
       "</table>\n",
       "</div>"
      ],
      "text/plain": [
       "   Clusters Ticker\n",
       "0         2      A\n",
       "1         2     AA\n",
       "2         1    AAC\n",
       "3         2    AAL\n",
       "4         4   AAMC"
      ]
     },
     "execution_count": 255,
     "metadata": {},
     "output_type": "execute_result"
    }
   ],
   "source": [
    "# Removing the \"-profile.txt\" from the Ticker\n",
    "import re\n",
    "for i in range(0,len(df_corpus)):\n",
    "    df_corpus.loc[i,'Ticker']=re.sub(\"-profile.txt\",\"\",df_corpus.loc[i,'Ticker'])\n",
    "df_corpus.head(5)"
   ]
  },
  {
   "cell_type": "code",
   "execution_count": 256,
   "metadata": {
    "collapsed": true
   },
   "outputs": [],
   "source": [
    "# merging the two dataframe on the Ticker\n",
    "merged_df = pd.merge(left=df, right=df_corpus, how='inner', on=\"Ticker\")"
   ]
  },
  {
   "cell_type": "code",
   "execution_count": 257,
   "metadata": {},
   "outputs": [
    {
     "data": {
      "text/html": [
       "<div>\n",
       "<style>\n",
       "    .dataframe thead tr:only-child th {\n",
       "        text-align: right;\n",
       "    }\n",
       "\n",
       "    .dataframe thead th {\n",
       "        text-align: left;\n",
       "    }\n",
       "\n",
       "    .dataframe tbody tr th {\n",
       "        vertical-align: top;\n",
       "    }\n",
       "</style>\n",
       "<table border=\"1\" class=\"dataframe\">\n",
       "  <thead>\n",
       "    <tr style=\"text-align: right;\">\n",
       "      <th></th>\n",
       "      <th>Ticker</th>\n",
       "      <th>Company</th>\n",
       "      <th>Sector</th>\n",
       "      <th>Industry</th>\n",
       "      <th>Country</th>\n",
       "      <th>Clusters</th>\n",
       "    </tr>\n",
       "  </thead>\n",
       "  <tbody>\n",
       "    <tr>\n",
       "      <th>398</th>\n",
       "      <td>BHAC</td>\n",
       "      <td>Barington/Hilco Acquisition Corp.</td>\n",
       "      <td>Conglomerates</td>\n",
       "      <td>Conglomerates</td>\n",
       "      <td>USA</td>\n",
       "      <td>2</td>\n",
       "    </tr>\n",
       "    <tr>\n",
       "      <th>512</th>\n",
       "      <td>BZH</td>\n",
       "      <td>Beazer Homes USA Inc.</td>\n",
       "      <td>Industrial Goods</td>\n",
       "      <td>Residential Construction</td>\n",
       "      <td>USA</td>\n",
       "      <td>2</td>\n",
       "    </tr>\n",
       "    <tr>\n",
       "      <th>1651</th>\n",
       "      <td>IIVI</td>\n",
       "      <td>II-VI Incorporated</td>\n",
       "      <td>Technology</td>\n",
       "      <td>Scientific &amp; Technical Instruments</td>\n",
       "      <td>USA</td>\n",
       "      <td>2</td>\n",
       "    </tr>\n",
       "    <tr>\n",
       "      <th>3137</th>\n",
       "      <td>TLGT</td>\n",
       "      <td>Teligent, Inc.</td>\n",
       "      <td>Healthcare</td>\n",
       "      <td>Biotechnology</td>\n",
       "      <td>USA</td>\n",
       "      <td>2</td>\n",
       "    </tr>\n",
       "    <tr>\n",
       "      <th>1711</th>\n",
       "      <td>IRDM</td>\n",
       "      <td>Iridium Communications Inc.</td>\n",
       "      <td>Technology</td>\n",
       "      <td>Diversified Communication Services</td>\n",
       "      <td>USA</td>\n",
       "      <td>2</td>\n",
       "    </tr>\n",
       "  </tbody>\n",
       "</table>\n",
       "</div>"
      ],
      "text/plain": [
       "     Ticker                            Company            Sector  \\\n",
       "398    BHAC  Barington/Hilco Acquisition Corp.     Conglomerates   \n",
       "512     BZH              Beazer Homes USA Inc.  Industrial Goods   \n",
       "1651   IIVI                 II-VI Incorporated        Technology   \n",
       "3137   TLGT                     Teligent, Inc.        Healthcare   \n",
       "1711   IRDM        Iridium Communications Inc.        Technology   \n",
       "\n",
       "                                Industry Country  Clusters  \n",
       "398                        Conglomerates     USA         2  \n",
       "512             Residential Construction     USA         2  \n",
       "1651  Scientific & Technical Instruments     USA         2  \n",
       "3137                       Biotechnology     USA         2  \n",
       "1711  Diversified Communication Services     USA         2  "
      ]
     },
     "execution_count": 257,
     "metadata": {},
     "output_type": "execute_result"
    }
   ],
   "source": [
    "merged_df.sample(5)"
   ]
  },
  {
   "cell_type": "code",
   "execution_count": 258,
   "metadata": {},
   "outputs": [
    {
     "name": "stdout",
     "output_type": "stream",
     "text": [
      "Cluster 1 : Basic Materials :- % correct categories is  66.45\n",
      "Cluster 2 : Healthcare :- % correct categories is  98.57\n",
      "Cluster 3 : Services :- % correct categories is  26.45\n",
      "Cluster 4 : Financial :- % correct categories is  98.94\n",
      "Cluster 5 : Financial :- % correct categories is  93.14\n"
     ]
    }
   ],
   "source": [
    "# Printing the most recurring Sector(taken from previous dataframe) in each cluster\n",
    "for i in range(num_clusters):\n",
    "    print(\"Cluster\",i+1,\":\",merged_df[merged_df.Clusters==i].Sector.mode()[0],\":- % correct categories is \", \\\n",
    "    round(len(merged_df[merged_df.Clusters==i][merged_df[merged_df.Clusters==i].Sector==\\\n",
    "    merged_df[merged_df.Clusters==i].Sector.mode()[0]])/len(merged_df[merged_df.Clusters==i])*100,2))   "
   ]
  },
  {
   "cell_type": "code",
   "execution_count": 259,
   "metadata": {
    "scrolled": true
   },
   "outputs": [
    {
     "data": {
      "text/plain": [
       "2    2140\n",
       "4     379\n",
       "3     376\n",
       "1     350\n",
       "0     313\n",
       "Name: Clusters, dtype: int64"
      ]
     },
     "execution_count": 259,
     "metadata": {},
     "output_type": "execute_result"
    }
   ],
   "source": [
    "merged_df.Clusters.value_counts()"
   ]
  },
  {
   "cell_type": "code",
   "execution_count": 264,
   "metadata": {},
   "outputs": [
    {
     "name": "stdout",
     "output_type": "stream",
     "text": [
      "Top terms per cluster:\n",
      "\n",
      "Cluster 1 words: ga, oil, natur ga, natur, energi, texa,\n",
      "\n",
      "Cluster 1 Companies: NRG Energy, Inc., Williams Partners L.P., Western Gas Equity Partners, LP, RPC Inc., Transmontaigne Partners L.P., Independence Contract Drilling, Inc., Diamond Offshore Drilling, Inc., Sempra Energy, Calumet Specialty Products Partners LP, UGI Corporation,\n",
      "\n",
      "Cluster 2 words: treatment, clinic, develop, phase, trial, diseas,\n",
      "\n",
      "Cluster 2 Companies: Acura Pharmaceuticals, Inc., Emergent BioSolutions, Inc., PLx Pharma Inc., Syros Pharmaceuticals, Inc., The Medicines Company, Acorda Therapeutics, Inc., Evoke Pharma, Inc., BioDelivery Sciences International, Inc., Ironwood Pharmaceuticals, Inc., Agenus Inc.,\n",
      "\n",
      "Cluster 3 words: oper, offer, manufactur, brand, manag, includ,\n",
      "\n",
      "Cluster 3 Companies: Electro Scientific Industries Inc., Leggett & Platt, Incorporated, KEMET Corp., Odyssey Marine Exploration Inc., Nortech Systems Inc., Expeditors International of Washington Inc., Thermon Group Holdings, Inc., Outfront Media Inc., AMC Entertainment Holdings, Inc., Public Storage,\n",
      "\n",
      "Cluster 4 words: loan, bank, deposit, account, commerci, credit,\n",
      "\n",
      "Cluster 4 Companies: MB Financial Inc., People's Utah Bancorp, Union Bankshares, Inc., Malvern Bancorp, Inc., DNB Financial Corp., Investors Bancorp Inc., Prudential Bancorp, Inc., Community Bankers Trust Corporation, M&T Bank Corporation, Western Alliance Bancorporation,\n",
      "\n",
      "Cluster 5 words: invest, fund, real estat, estat, real, properti,\n",
      "\n",
      "Cluster 5 Companies: Corporate Office Properties Trust, LPL Financial Holdings Inc., Essex Property Trust Inc., Ashford Hospitality Trust, Inc., InfraREIT, Inc., Healthcare Realty Trust Incorporated, Helmerich & Payne, Inc., Franklin Street Properties Corp., Taubman Centers, Inc., Potlatch Corporation,\n",
      "\n",
      "\n",
      "\n"
     ]
    }
   ],
   "source": [
    "from __future__ import print_function\n",
    "print(\"Top terms per cluster:\")\n",
    "print()\n",
    "#sort cluster centers by proximity to centroid\n",
    "order_centroids = km.cluster_centers_.argsort()[:, ::-1] \n",
    "for i in range(num_clusters):\n",
    "    print(\"Cluster %d words:\" % int(i+1), end='')\n",
    "    \n",
    "    for ind in range(0,6): # top 6 words per cluster\n",
    "        print(' %s' % terms[order_centroids[i,ind]], end=',')\n",
    "    print() #add whitespace\n",
    "    print() #add whitespace\n",
    "    \n",
    "    print(\"Cluster %d Companies:\" % int(i+1), end='')\n",
    "    #print()\n",
    "    for title in merged_df[merged_df['Clusters']==i][\"Company\"].sample(10).values.tolist():\n",
    "        print(' %s,' % title, end='')\n",
    "        #uncomment below to see the Sector and Industry of each Company\n",
    "        #print(\"Sector:\",merged_df.Sector[merged_df.Company==title].values[0],\"Industry:\",merged_df.Industry[merged_df.Company==title].values[0])\n",
    "    print() #add whitespace\n",
    "    print() #add whitespace\n",
    "    \n",
    "print()\n",
    "print()"
   ]
  },
  {
   "cell_type": "code",
   "execution_count": 78,
   "metadata": {},
   "outputs": [],
   "source": [
    "# rough work\n",
    "# to find the 1st common term for cluster 0\n",
    "#terms[order_centroids[0,0]]\n",
    "#merged_df[merged_df['Clusters']==i][\"Company\"][0:5].values.tolist()\n",
    "#order_centroids shape is 4x360 ie., 360 features from tdidf and 4 clusters from KNN\n",
    "#terms[order_centroids[0,14]]\n",
    "#import random    \n",
    "#my_randoms=[]    \n",
    "#for i in range (10):    \n",
    "    #my_randoms.append(random.randrange(1,3559,1))    \n",
    "    #print (my_randoms)  \n",
    "#my_randoms\n",
    "#title1 = merged_df[merged_df['Clusters']==0][\"Company\"].sample(1).values.tolist()\n",
    "#merged_df.Sector[merged_df.Company==\"Independent Bank Corporation\"].values[0]\n",
    "# Take separate dataframe according to each cluster\n",
    "#Cluster0=merged_df[merged_df.Clusters==0]\n",
    "#Cluster1=merged_df[merged_df.Clusters==1]\n",
    "#Cluster2=merged_df[merged_df.Clusters==2]\n",
    "#Cluster3=merged_df[merged_df.Clusters==3]\n",
    "#print(\"Cluster0:\",Cluster0.Sector.mode()[0],\":- % correct categories is \",round(len(Cluster0[Cluster0.Sector==Cluster0.Sector.mode()[0]])/len(Cluster0)*100,2))\n",
    "#print(\"Cluster1:\",Cluster1.Sector.mode()[0],\":- % correct categories is \",round(len(Cluster1[Cluster1.Sector==Cluster1.Sector.mode()[0]])/len(Cluster1)*100,2))\n",
    "#print(\"Cluster2:\",Cluster2.Sector.mode()[0],\":- % correct categories is \",round(len(Cluster2[Cluster2.Sector==Cluster2.Sector.mode()[0]])/len(Cluster2)*100,2))\n",
    "#print(\"Cluster3:\",Cluster3.Sector.mode()[0],\":- % correct categories is \",round(len(Cluster3[Cluster3.Sector==Cluster3.Sector.mode()[0]])/len(Cluster3)*100,2))\n",
    "#print() #add whitespace\n",
    "#print() #add whitespace"
   ]
  }
 ],
 "metadata": {
  "kernelspec": {
   "display_name": "Python 3",
   "language": "python",
   "name": "python3"
  },
  "language_info": {
   "codemirror_mode": {
    "name": "ipython",
    "version": 3
   },
   "file_extension": ".py",
   "mimetype": "text/x-python",
   "name": "python",
   "nbconvert_exporter": "python",
   "pygments_lexer": "ipython3",
   "version": "3.6.4"
  }
 },
 "nbformat": 4,
 "nbformat_minor": 2
}
